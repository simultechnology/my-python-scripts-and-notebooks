{
 "cells": [
  {
   "cell_type": "code",
   "execution_count": 1,
   "metadata": {},
   "outputs": [],
   "source": [
    "import matplotlib.pyplot as plt "
   ]
  },
  {
   "cell_type": "code",
   "execution_count": 2,
   "metadata": {},
   "outputs": [],
   "source": [
    "def my_func(x):\n",
    "    return x**3 -2 * x**2 -3 * x + 4"
   ]
  },
  {
   "cell_type": "code",
   "execution_count": 3,
   "metadata": {},
   "outputs": [],
   "source": [
    "import numpy as np"
   ]
  },
  {
   "cell_type": "code",
   "execution_count": 9,
   "metadata": {},
   "outputs": [],
   "source": [
    "X = np.linspace(-2, 2)"
   ]
  },
  {
   "cell_type": "code",
   "execution_count": 10,
   "metadata": {},
   "outputs": [],
   "source": [
    "y = [my_func(x) for x in X]"
   ]
  },
  {
   "cell_type": "code",
   "execution_count": 16,
   "metadata": {},
   "outputs": [
    {
     "data": {
      "image/png": "[encoded data removed]",
      "text/plain": [
       "<Figure size 432x288 with 1 Axes>"
      ]
     },
     "metadata": {
      "needs_background": "light"
     },
     "output_type": "display_data"
    }
   ],
   "source": [
    "plt.plot(X, y)\n",
    "plt.grid()\n",
    "plt.show()"
   ]
  },
  {
   "cell_type": "code",
   "execution_count": 14,
   "metadata": {},
   "outputs": [
    {
     "data": {
      "text/plain": [
       "array([-6.        , -4.66501203, -3.43338235, -2.30184702, -1.26714209,\n",
       "       -0.32600362,  0.52483234,  1.28862974,  1.96865252,  2.56816463,\n",
       "        3.09043001,  3.53871261,  3.91627638,  4.22638526,  4.47230321,\n",
       "        4.65729415,  4.78462205,  4.85755085,  4.87934449,  4.85326692,\n",
       "        4.78258209,  4.67055394,  4.52044641,  4.33552346,  4.11904904,\n",
       "        3.87428707,  3.60450153,  3.31295634,  3.00291545,  2.67764282,\n",
       "        2.34040238,  1.99445809,  1.64307389,  1.28951372,  0.93704154,\n",
       "        0.58892128,  0.2484169 , -0.08120766, -0.39668845, -0.69476154,\n",
       "       -0.97216296, -1.22562878, -1.45189504, -1.64769781, -1.80977314,\n",
       "       -1.93485707, -2.01968568, -2.06099499, -2.05552108, -2.        ])"
      ]
     },
     "execution_count": 14,
     "metadata": {},
     "output_type": "execute_result"
    }
   ],
   "source": [
    "my_func(X)"
   ]
  },
  {
   "cell_type": "code",
   "execution_count": 17,
   "metadata": {},
   "outputs": [
    {
     "data": {
      "text/plain": [
       "array([-3.14159265, -3.01336438, -2.88513611, -2.75690784, -2.62867957,\n",
       "       -2.5004513 , -2.37222302, -2.24399475, -2.11576648, -1.98753821,\n",
       "       -1.85930994, -1.73108167, -1.60285339, -1.47462512, -1.34639685,\n",
       "       -1.21816858, -1.08994031, -0.96171204, -0.83348377, -0.70525549,\n",
       "       -0.57702722, -0.44879895, -0.32057068, -0.19234241, -0.06411414,\n",
       "        0.06411414,  0.19234241,  0.32057068,  0.44879895,  0.57702722,\n",
       "        0.70525549,  0.83348377,  0.96171204,  1.08994031,  1.21816858,\n",
       "        1.34639685,  1.47462512,  1.60285339,  1.73108167,  1.85930994,\n",
       "        1.98753821,  2.11576648,  2.24399475,  2.37222302,  2.5004513 ,\n",
       "        2.62867957,  2.75690784,  2.88513611,  3.01336438,  3.14159265])"
      ]
     },
     "execution_count": 17,
     "metadata": {},
     "output_type": "execute_result"
    }
   ],
   "source": [
    "np.linspace(-np.pi, np.pi)"
   ]
  },
  {
   "cell_type": "code",
   "execution_count": null,
   "metadata": {},
   "outputs": [],
   "source": [
    "from functools import reduce"
   ]
  },
  {
   "cell_type": "code",
   "execution_count": 22,
   "metadata": {},
   "outputs": [
    {
     "data": {
      "text/plain": [
       "15"
      ]
     },
     "execution_count": 22,
     "metadata": {},
     "output_type": "execute_result"
    }
   ],
   "source": [
    "reduce(lambda x, y : x + y, [1, 3, 2, 5, 4])"
   ]
  },
  {
   "cell_type": "markdown",
   "metadata": {},
   "source": [
    "$$y=x^3+2x^2+x+3$$"
   ]
  },
  {
   "cell_type": "markdown",
   "metadata": {},
   "source": [
    "$$y=\\sqrt x$$"
   ]
  },
  {
   "cell_type": "markdown",
   "metadata": {},
   "source": [
    "$$y=x^3 + \\sqrt x + \\frac{a_{ij}}{b_{ij}^4} -  \\sum_{k=1}^n a_k$$"
   ]
  },
  {
   "cell_type": "code",
   "execution_count": 23,
   "metadata": {},
   "outputs": [],
   "source": [
    "x = np.linspace(-4, 4)\n",
    "y = np.abs(x**2 - 4)"
   ]
  },
  {
   "cell_type": "code",
   "execution_count": 24,
   "metadata": {},
   "outputs": [
    {
     "data": {
      "image/png": "[encoded data removed]",
      "text/plain": [
       "<Figure size 432x288 with 1 Axes>"
      ]
     },
     "metadata": {
      "needs_background": "light"
     },
     "output_type": "display_data"
    }
   ],
   "source": [
    "plt.scatter(x, y)\n",
    "plt.xlabel(\"x\", size=14)\n",
    "plt.xlabel(\"y\", size=14)\n",
    "plt.grid()\n",
    "\n",
    "plt.show()"
   ]
  },
  {
   "cell_type": "code",
   "execution_count": null,
   "metadata": {},
   "outputs": [],
   "source": []
  }
 ],
 "metadata": {
  "kernelspec": {
   "display_name": "my-python-scripts-and-notebooks",
   "language": "python",
   "name": "my-python-scripts-and-notebooks"
  },
  "language_info": {
   "codemirror_mode": {
    "name": "ipython",
    "version": 3
   },
   "file_extension": ".py",
   "mimetype": "text/x-python",
   "name": "python",
   "nbconvert_exporter": "python",
   "pygments_lexer": "ipython3",
   "version": "3.7.3"
  }
 },
 "nbformat": 4,
 "nbformat_minor": 1
}
