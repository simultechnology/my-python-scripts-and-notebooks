{
 "cells": [
  {
   "cell_type": "code",
   "execution_count": 1,
   "metadata": {},
   "outputs": [],
   "source": [
    "import numpy as np"
   ]
  },
  {
   "cell_type": "code",
   "execution_count": 2,
   "metadata": {},
   "outputs": [
    {
     "name": "stdout",
     "output_type": "stream",
     "text": [
      "[[ 1]\n",
      " [ 2]\n",
      " [-2]]\n"
     ]
    }
   ],
   "source": [
    "u = np.array([1 , 2, -2]).reshape(-1, 1)\n",
    "print(u)"
   ]
  },
  {
   "cell_type": "code",
   "execution_count": 3,
   "metadata": {},
   "outputs": [
    {
     "name": "stdout",
     "output_type": "stream",
     "text": [
      "[[3]\n",
      " [5]\n",
      " [7]]\n"
     ]
    }
   ],
   "source": [
    "v = np.array([3, 5, 7]).reshape(-1, 1)\n",
    "print(v)"
   ]
  },
  {
   "cell_type": "code",
   "execution_count": 4,
   "metadata": {},
   "outputs": [
    {
     "name": "stdout",
     "output_type": "stream",
     "text": [
      "[[ 1]\n",
      " [-1]\n",
      " [ 2]]\n"
     ]
    }
   ],
   "source": [
    "w = np.array([1, -1, 2]).reshape(-1, 1)\n",
    "print(w)"
   ]
  },
  {
   "cell_type": "code",
   "execution_count": 5,
   "metadata": {},
   "outputs": [
    {
     "data": {
      "text/plain": [
       "array([[4],\n",
       "       [7],\n",
       "       [5]])"
      ]
     },
     "execution_count": 5,
     "metadata": {},
     "output_type": "execute_result"
    }
   ],
   "source": [
    " u + v"
   ]
  },
  {
   "cell_type": "code",
   "execution_count": 6,
   "metadata": {},
   "outputs": [
    {
     "data": {
      "text/plain": [
       "array([[-2],\n",
       "       [-3],\n",
       "       [-9]])"
      ]
     },
     "execution_count": 6,
     "metadata": {},
     "output_type": "execute_result"
    }
   ],
   "source": [
    "u - v "
   ]
  },
  {
   "cell_type": "code",
   "execution_count": 7,
   "metadata": {},
   "outputs": [
    {
     "data": {
      "text/plain": [
       "array([[ 3],\n",
       "       [ 6],\n",
       "       [-6]])"
      ]
     },
     "execution_count": 7,
     "metadata": {},
     "output_type": "execute_result"
    }
   ],
   "source": [
    "3 * u "
   ]
  },
  {
   "cell_type": "code",
   "execution_count": 12,
   "metadata": {},
   "outputs": [
    {
     "data": {
      "text/plain": [
       "array([[ 9],\n",
       "       [ 7],\n",
       "       [20]])"
      ]
     },
     "execution_count": 12,
     "metadata": {},
     "output_type": "execute_result"
    }
   ],
   "source": [
    "2* v + 3 * w "
   ]
  },
  {
   "cell_type": "code",
   "execution_count": 13,
   "metadata": {},
   "outputs": [
    {
     "data": {
      "text/plain": [
       "5"
      ]
     },
     "execution_count": 13,
     "metadata": {},
     "output_type": "execute_result"
    }
   ],
   "source": [
    "np.absolute(u).sum()"
   ]
  },
  {
   "cell_type": "code",
   "execution_count": 14,
   "metadata": {},
   "outputs": [
    {
     "data": {
      "text/plain": [
       "3.0"
      ]
     },
     "execution_count": 14,
     "metadata": {},
     "output_type": "execute_result"
    }
   ],
   "source": [
    "np.sqrt((u ** 2).sum())"
   ]
  },
  {
   "cell_type": "code",
   "execution_count": 29,
   "metadata": {},
   "outputs": [
    {
     "name": "stdout",
     "output_type": "stream",
     "text": [
      "[1 3 5]\n"
     ]
    }
   ],
   "source": [
    "u1 = np.array([1, 3, 5])\n",
    "print(u1)"
   ]
  },
  {
   "cell_type": "code",
   "execution_count": 30,
   "metadata": {},
   "outputs": [
    {
     "name": "stdout",
     "output_type": "stream",
     "text": [
      "[ 2 -1  1]\n"
     ]
    }
   ],
   "source": [
    "v1 = np.array([2, -1, 1])\n",
    "print(v1)"
   ]
  },
  {
   "cell_type": "code",
   "execution_count": 31,
   "metadata": {},
   "outputs": [
    {
     "data": {
      "text/plain": [
       "4"
      ]
     },
     "execution_count": 31,
     "metadata": {},
     "output_type": "execute_result"
    }
   ],
   "source": [
    "np.dot(u1, v1)"
   ]
  },
  {
   "cell_type": "code",
   "execution_count": 23,
   "metadata": {},
   "outputs": [
    {
     "data": {
      "text/plain": [
       "array([1, 3, 5])"
      ]
     },
     "execution_count": 23,
     "metadata": {},
     "output_type": "execute_result"
    }
   ],
   "source": [
    "np.array([1, 3, 5])"
   ]
  },
  {
   "cell_type": "code",
   "execution_count": 24,
   "metadata": {},
   "outputs": [
    {
     "data": {
      "text/plain": [
       "numpy.ndarray"
      ]
     },
     "execution_count": 24,
     "metadata": {},
     "output_type": "execute_result"
    }
   ],
   "source": [
    "type(u1)"
   ]
  },
  {
   "cell_type": "code",
   "execution_count": 25,
   "metadata": {},
   "outputs": [
    {
     "data": {
      "text/plain": [
       "numpy.ndarray"
      ]
     },
     "execution_count": 25,
     "metadata": {},
     "output_type": "execute_result"
    }
   ],
   "source": [
    "type(np.array([1, 3, 5]))"
   ]
  },
  {
   "cell_type": "code",
   "execution_count": 26,
   "metadata": {},
   "outputs": [
    {
     "data": {
      "text/plain": [
       "array([ 2, -3,  5])"
      ]
     },
     "execution_count": 26,
     "metadata": {},
     "output_type": "execute_result"
    }
   ],
   "source": [
    "u1 * v1"
   ]
  },
  {
   "cell_type": "code",
   "execution_count": 32,
   "metadata": {},
   "outputs": [],
   "source": [
    "import matplotlib.pyplot as plt"
   ]
  },
  {
   "cell_type": "code",
   "execution_count": 75,
   "metadata": {},
   "outputs": [],
   "source": [
    "x = np.linspace(-5, 5, 500)"
   ]
  },
  {
   "cell_type": "code",
   "execution_count": 69,
   "metadata": {},
   "outputs": [],
   "source": [
    "y = x ** 2\n",
    "y2 = (x - 2)**2"
   ]
  },
  {
   "cell_type": "code",
   "execution_count": 70,
   "metadata": {},
   "outputs": [
    {
     "data": {
      "image/png": "[encoded data removed]",
      "text/plain": [
       "<Figure size 432x288 with 1 Axes>"
      ]
     },
     "metadata": {
      "needs_background": "light"
     },
     "output_type": "display_data"
    }
   ],
   "source": [
    "plt.plot(x, y, color=\"r\")\n",
    "plt.plot(x, y2, color=\"k\", linestyle=\"--\")\n",
    "plt.show()"
   ]
  },
  {
   "cell_type": "code",
   "execution_count": 71,
   "metadata": {},
   "outputs": [
    {
     "data": {
      "image/png": "[encoded data removed]",
      "text/plain": [
       "<Figure size 432x288 with 1 Axes>"
      ]
     },
     "metadata": {
      "needs_background": "light"
     },
     "output_type": "display_data"
    }
   ],
   "source": [
    "np.random.seed(0)\n",
    "l = []\n",
    "for _ in range(1000):\n",
    "    l.append(np.random.randint(1, 7, size=10).sum())\n",
    "    \n",
    "plt.hist(l, 20, color=\"gray\")\n",
    "plt.show()"
   ]
  },
  {
   "cell_type": "code",
   "execution_count": 72,
   "metadata": {},
   "outputs": [
    {
     "name": "stdout",
     "output_type": "stream",
     "text": [
      "[39, 28, 33, 30, 31, 36, 27, 40, 43, 35, 36, 30, 34, 31, 25, 35, 33, 43, 31, 35, 28, 36, 40, 40, 36, 43, 29, 30, 34, 41, 47, 36, 27, 29, 33, 34, 37, 43, 39, 36, 35, 20, 32, 39, 28, 38, 32, 35, 30, 37, 36, 44, 39, 27, 34, 39, 38, 35, 38, 37, 38, 27, 33, 42, 47, 37, 40, 34, 39, 26, 35, 34, 39, 34, 33, 38, 29, 27, 36, 36, 37, 37, 41, 42, 40, 27, 46, 36, 32, 31, 33, 48, 38, 33, 38, 34, 29, 34, 28, 45, 31, 43, 39, 30, 33, 38, 39, 42, 35, 34, 36, 32, 28, 37, 26, 31, 44, 41, 25, 35, 33, 40, 25, 39, 35, 34, 38, 45, 31, 31, 41, 41, 37, 32, 41, 30, 38, 39, 35, 40, 34, 32, 33, 31, 38, 30, 41, 26, 41, 39, 34, 28, 37, 40, 43, 34, 32, 36, 26, 28, 32, 35, 36, 38, 33, 27, 45, 29, 33, 35, 31, 36, 33, 40, 34, 31, 40, 35, 26, 42, 31, 32, 31, 44, 38, 29, 30, 32, 35, 29, 36, 33, 38, 34, 36, 41, 31, 36, 33, 41, 34, 39, 33, 42, 38, 42, 31, 34, 37, 38, 37, 25, 37, 40, 35, 40, 39, 38, 35, 33, 44, 24, 42, 38, 50, 25, 46, 27, 37, 30, 39, 31, 40, 35, 36, 40, 34, 36, 36, 37, 40, 31, 37, 35, 38, 36, 34, 37, 37, 35, 30, 37, 31, 42, 38, 33, 39, 29, 38, 35, 34, 44, 29, 37, 43, 37, 42, 37, 41, 29, 37, 32, 31, 30, 37, 40, 28, 36, 38, 32, 31, 40, 42, 37, 19, 40, 37, 31, 30, 27, 41, 39, 35, 31, 37, 25, 32, 44, 38, 37, 38, 26, 37, 40, 43, 26, 43, 41, 33, 32, 29, 35, 33, 40, 33, 41, 25, 37, 32, 40, 36, 43, 34, 34, 41, 37, 30, 37, 37, 39, 35, 39, 29, 46, 38, 41, 30, 36, 30, 30, 27, 40, 33, 36, 26, 38, 30, 47, 43, 35, 30, 34, 33, 35, 41, 33, 37, 38, 37, 35, 45, 39, 22, 39, 34, 26, 44, 43, 39, 38, 41, 35, 39, 46, 27, 36, 36, 24, 30, 43, 30, 42, 33, 29, 29, 29, 39, 39, 33, 35, 32, 28, 38, 28, 32, 32, 25, 31, 32, 30, 38, 37, 34, 34, 32, 47, 42, 34, 44, 32, 33, 38, 34, 47, 33, 29, 29, 39, 39, 30, 39, 20, 32, 34, 29, 34, 38, 27, 33, 41, 27, 38, 30, 32, 30, 33, 38, 38, 29, 30, 37, 33, 45, 41, 37, 44, 35, 32, 31, 32, 46, 44, 29, 25, 38, 28, 34, 27, 30, 32, 36, 37, 32, 25, 35, 35, 33, 32, 28, 39, 37, 24, 29, 42, 29, 27, 31, 41, 44, 37, 33, 41, 34, 33, 33, 31, 41, 40, 28, 30, 41, 39, 33, 37, 29, 38, 33, 27, 36, 34, 37, 33, 35, 34, 34, 34, 30, 31, 33, 30, 46, 26, 38, 39, 41, 34, 42, 38, 36, 38, 37, 28, 32, 43, 35, 34, 40, 28, 37, 43, 34, 37, 44, 47, 34, 36, 38, 27, 33, 44, 27, 40, 30, 37, 27, 36, 37, 39, 31, 40, 24, 33, 31, 33, 36, 42, 35, 28, 33, 35, 34, 40, 22, 40, 27, 21, 35, 29, 35, 33, 38, 41, 37, 35, 38, 37, 44, 28, 36, 41, 24, 37, 31, 31, 41, 29, 32, 41, 39, 36, 35, 34, 35, 36, 36, 39, 36, 39, 34, 37, 30, 34, 38, 37, 43, 43, 35, 33, 32, 32, 32, 33, 28, 41, 36, 32, 29, 42, 26, 22, 27, 38, 29, 42, 27, 32, 35, 40, 36, 23, 36, 35, 31, 38, 31, 39, 37, 29, 40, 26, 36, 43, 35, 39, 34, 24, 37, 43, 40, 48, 38, 37, 26, 35, 30, 35, 35, 31, 29, 30, 39, 31, 31, 39, 32, 33, 37, 30, 39, 24, 33, 37, 39, 37, 44, 38, 38, 37, 31, 43, 39, 32, 34, 44, 29, 32, 31, 37, 38, 30, 31, 22, 36, 32, 37, 33, 37, 30, 37, 33, 41, 39, 32, 28, 49, 36, 38, 29, 39, 29, 38, 36, 49, 27, 42, 31, 30, 36, 27, 38, 32, 33, 28, 44, 36, 35, 40, 35, 33, 30, 22, 41, 27, 31, 30, 33, 38, 40, 23, 28, 27, 37, 39, 38, 36, 37, 34, 34, 39, 32, 36, 36, 34, 37, 36, 32, 28, 40, 37, 48, 30, 35, 24, 22, 32, 36, 31, 26, 38, 35, 38, 37, 39, 39, 37, 36, 33, 26, 39, 37, 28, 36, 39, 42, 37, 32, 38, 43, 32, 33, 40, 36, 35, 38, 34, 44, 42, 29, 25, 37, 31, 34, 33, 36, 34, 32, 49, 29, 42, 39, 37, 36, 42, 32, 34, 41, 30, 37, 36, 33, 39, 38, 33, 34, 34, 35, 31, 37, 40, 31, 27, 39, 30, 39, 33, 33, 33, 38, 32, 40, 29, 40, 41, 37, 40, 28, 32, 29, 27, 40, 28, 33, 38, 45, 33, 39, 35, 45, 27, 38, 48, 31, 36, 32, 29, 41, 27, 31, 39, 43, 33, 40, 25, 35, 48, 36, 29, 31, 45, 34, 39, 41, 28, 35, 35, 36, 31, 33, 30, 40, 34, 45, 34, 36, 44, 40, 32, 33, 27, 31, 33, 30, 33, 35, 42, 31, 41, 28, 43, 39, 35, 38, 42, 38, 21, 33, 35, 31, 33, 31, 32, 36, 32, 32, 42, 33, 37, 31, 25, 38, 35, 36, 35, 30, 33, 32, 33, 38, 39, 33, 40, 39, 47, 44, 30, 34, 37, 32, 34, 30, 25, 38, 40, 35, 29, 33, 33, 39, 35, 25, 31, 33, 37, 33, 33, 21, 34, 37, 33, 36, 32, 35, 32, 40, 32, 32, 38, 26, 32, 32, 48, 45, 32, 30, 43, 34, 29, 39, 27, 42, 31, 31, 37, 52, 24, 39, 26, 38, 42, 30]\n"
     ]
    }
   ],
   "source": [
    "print(l)"
   ]
  },
  {
   "cell_type": "code",
   "execution_count": 74,
   "metadata": {},
   "outputs": [
    {
     "data": {
      "text/plain": [
       "1000"
      ]
     },
     "execution_count": 74,
     "metadata": {},
     "output_type": "execute_result"
    }
   ],
   "source": [
    "len(l)"
   ]
  },
  {
   "cell_type": "code",
   "execution_count": null,
   "metadata": {},
   "outputs": [],
   "source": []
  }
 ],
 "metadata": {
  "kernelspec": {
   "display_name": "my-python-scripts-and-notebooks",
   "language": "python",
   "name": "my-python-scripts-and-notebooks"
  },
  "language_info": {
   "codemirror_mode": {
    "name": "ipython",
    "version": 3
   },
   "file_extension": ".py",
   "mimetype": "text/x-python",
   "name": "python",
   "nbconvert_exporter": "python",
   "pygments_lexer": "ipython3",
   "version": "3.7.3"
  }
 },
 "nbformat": 4,
 "nbformat_minor": 2
}
